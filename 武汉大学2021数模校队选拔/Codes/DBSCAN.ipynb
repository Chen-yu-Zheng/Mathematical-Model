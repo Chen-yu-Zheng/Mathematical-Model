{
 "cells": [
  {
   "cell_type": "code",
   "execution_count": 1,
   "metadata": {},
   "outputs": [],
   "source": [
    "import numpy as np \n",
    "import pandas as pd \n",
    "import matplotlib.pyplot as plt\n",
    "import os\n",
    "from sklearn.cluster import DBSCAN\n",
    "from sklearn.preprocessing import StandardScaler"
   ]
  },
  {
   "cell_type": "code",
   "execution_count": 2,
   "metadata": {},
   "outputs": [
    {
     "name": "stdout",
     "output_type": "stream",
     "text": [
      "table_size1: 396\n"
     ]
    },
    {
     "data": {
      "image/png": "[encoded data removed]",
      "text/plain": [
       "<Figure size 432x288 with 1 Axes>"
      ]
     },
     "metadata": {
      "needs_background": "light"
     },
     "output_type": "display_data"
    },
    {
     "name": "stdout",
     "output_type": "stream",
     "text": [
      "abnormal: []\n",
      "table_size2: 396\n",
      "Abnormal points number: 0\n"
     ]
    }
   ],
   "source": [
    "COLUMNS = ['date','time','ID','longitude','latitude',\n",
    "           'longitude_last','latitude_last','v','direct','examine']\n",
    "table = pd.read_csv('DATA/20161017 (1).txt', header = None, delim_whitespace=True, names = COLUMNS)\n",
    "table_size1 = table.shape[0]\n",
    "print('table_size1: %d' %table_size1)\n",
    "#table.plot.scatter(x = 'longitude', y= 'latitude')\n",
    "#plt.show()\n",
    "\n",
    "X = table[['longitude','latitude']]\n",
    "X = StandardScaler().fit_transform(X)\n",
    "labels = DBSCAN(eps= 0.6).fit_predict(X)\n",
    "\n",
    "plt.figure()\n",
    "plt.scatter(table['longitude'].values, table['latitude'].values, c = labels)\n",
    "#plt.savefig('result3.jpg')\n",
    "plt.legend(['normal','abnormal'])\n",
    "plt.show()\n",
    "\n",
    "abnormal = np.argwhere(labels == -1).squeeze()\n",
    "print('abnormal:' ,abnormal)\n",
    "table = table.drop(index= abnormal)\n",
    "table = table.reset_index(drop = True)\n",
    "\n",
    "table_size2 = table.shape[0]\n",
    "print('table_size2: %d' %table_size2)\n",
    "print('Abnormal points number: %d' %(table_size1 - table_size2))"
   ]
  },
  {
   "cell_type": "code",
   "execution_count": 3,
   "metadata": {},
   "outputs": [
    {
     "name": "stderr",
     "output_type": "stream",
     "text": [
      "D:\\Anaconda3\\lib\\site-packages\\ipykernel_launcher.py:3: SettingWithCopyWarning: \n",
      "A value is trying to be set on a copy of a slice from a DataFrame\n",
      "\n",
      "See the caveats in the documentation: http://pandas.pydata.org/pandas-docs/stable/indexing.html#indexing-view-versus-copy\n",
      "  This is separate from the ipykernel package so we can avoid doing imports until\n"
     ]
    }
   ],
   "source": [
    "for i in range(len(table)):\n",
    "    h,m,s = list(map(int, table['time'][i].split(':')))\n",
    "    table['time'][i] = 3600 * h + 60*m + s"
   ]
  },
  {
   "cell_type": "code",
   "execution_count": 4,
   "metadata": {},
   "outputs": [
    {
     "data": {
      "text/html": [
       "<div>\n",
       "<style scoped>\n",
       "    .dataframe tbody tr th:only-of-type {\n",
       "        vertical-align: middle;\n",
       "    }\n",
       "\n",
       "    .dataframe tbody tr th {\n",
       "        vertical-align: top;\n",
       "    }\n",
       "\n",
       "    .dataframe thead th {\n",
       "        text-align: right;\n",
       "    }\n",
       "</style>\n",
       "<table border=\"1\" class=\"dataframe\">\n",
       "  <thead>\n",
       "    <tr style=\"text-align: right;\">\n",
       "      <th></th>\n",
       "      <th>time</th>\n",
       "      <th>longitude</th>\n",
       "      <th>latitude</th>\n",
       "    </tr>\n",
       "  </thead>\n",
       "  <tbody>\n",
       "    <tr>\n",
       "      <th>0</th>\n",
       "      <td>11253</td>\n",
       "      <td>114.205147</td>\n",
       "      <td>30.456370</td>\n",
       "    </tr>\n",
       "    <tr>\n",
       "      <th>1</th>\n",
       "      <td>11288</td>\n",
       "      <td>114.205733</td>\n",
       "      <td>30.456913</td>\n",
       "    </tr>\n",
       "    <tr>\n",
       "      <th>2</th>\n",
       "      <td>11455</td>\n",
       "      <td>114.209440</td>\n",
       "      <td>30.460460</td>\n",
       "    </tr>\n",
       "    <tr>\n",
       "      <th>3</th>\n",
       "      <td>11593</td>\n",
       "      <td>114.212027</td>\n",
       "      <td>30.462997</td>\n",
       "    </tr>\n",
       "    <tr>\n",
       "      <th>4</th>\n",
       "      <td>11702</td>\n",
       "      <td>114.214507</td>\n",
       "      <td>30.465450</td>\n",
       "    </tr>\n",
       "  </tbody>\n",
       "</table>\n",
       "</div>"
      ],
      "text/plain": [
       "    time   longitude   latitude\n",
       "0  11253  114.205147  30.456370\n",
       "1  11288  114.205733  30.456913\n",
       "2  11455  114.209440  30.460460\n",
       "3  11593  114.212027  30.462997\n",
       "4  11702  114.214507  30.465450"
      ]
     },
     "execution_count": 4,
     "metadata": {},
     "output_type": "execute_result"
    }
   ],
   "source": [
    "table_save = table[['time','longitude','latitude']]\n",
    "table_save.head()"
   ]
  },
  {
   "cell_type": "code",
   "execution_count": 5,
   "metadata": {},
   "outputs": [],
   "source": [
    "table_save.to_excel('qs1/DBSCAN_1.xlsx')"
   ]
  }
 ],
 "metadata": {
  "kernelspec": {
   "display_name": "Python 3",
   "language": "python",
   "name": "python3"
  },
  "language_info": {
   "codemirror_mode": {
    "name": "ipython",
    "version": 3
   },
   "file_extension": ".py",
   "mimetype": "text/x-python",
   "name": "python",
   "nbconvert_exporter": "python",
   "pygments_lexer": "ipython3",
   "version": "3.7.3"
  }
 },
 "nbformat": 4,
 "nbformat_minor": 2
}
