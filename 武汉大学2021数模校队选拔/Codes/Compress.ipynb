{
 "cells": [
  {
   "cell_type": "code",
   "execution_count": 1,
   "metadata": {},
   "outputs": [],
   "source": [
    "import numpy as np\n",
    "import pandas as pd \n",
    "import matplotlib.pyplot as plt"
   ]
  },
  {
   "cell_type": "code",
   "execution_count": 2,
   "metadata": {},
   "outputs": [
    {
     "name": "stdout",
     "output_type": "stream",
     "text": [
      "34.884\n"
     ]
    }
   ],
   "source": [
    "import math\n",
    "\n",
    "def Rad(d):\n",
    "    return d * math.pi / 180\n",
    "\n",
    "def Geodist(point1,point2):\n",
    "    radLat1 = Rad(point1[1])\n",
    "    radLat2 = Rad(point2[1])\n",
    "    delta_lon = Rad(point1[0] - point2[0])\n",
    "    top_1 = math.cos(radLat2) * math.sin(delta_lon)\n",
    "    top_2 = math.cos(radLat1) * math.sin(radLat2) - math.sin(radLat1) * math.cos(radLat2) * math.cos(delta_lon)\n",
    "    top = math.sqrt(top_1 * top_1 + top_2 * top_2)\n",
    "    bottom = math.sin(radLat1) * math.sin(radLat2) + math.cos(radLat1) * math.cos(radLat2) * math.cos(delta_lon)\n",
    "    delta_sigma = math.atan2(top, bottom)\n",
    "    distance = delta_sigma * 6378137.0\n",
    "\n",
    "    return round(distance,3)\n",
    "\n",
    "point1=(116.470818,39.927558,0)\n",
    "point2=(116.470527,39.927338,1)\n",
    "print(Geodist(point1,point2))"
   ]
  },
  {
   "cell_type": "code",
   "execution_count": 3,
   "metadata": {},
   "outputs": [
    {
     "name": "stdout",
     "output_type": "stream",
     "text": [
      "2.237216438346514\n"
     ]
    }
   ],
   "source": [
    "def get_vertical_dist(pointA,pointB,pointX):\n",
    "    a=math.fabs(Geodist(pointA,pointB))\n",
    "\n",
    "    #当弦两端重合时,点到弦的距离变为点间距离\n",
    "    if a==0:\n",
    "        return math.fabs(Geodist(pointA,pointX))\n",
    "\n",
    "    b=math.fabs(Geodist(pointA,pointX))\n",
    "    c=math.fabs(Geodist(pointB,pointX))\n",
    "    p=(a+b+c)/2\n",
    "    S=math.sqrt(math.fabs(p*(p-a)*(p-b)*(p-c)))\n",
    "\n",
    "    vertical_dist=S*2/a\n",
    "\n",
    "    return vertical_dist\n",
    "\n",
    "pointA=(116.470818,39.927558,0)\n",
    "pointB=(116.470880,39.927403,3149)\n",
    "pointX=(116.470907,39.927267,10)\n",
    "print(get_vertical_dist(pointA,pointB,pointX))"
   ]
  },
  {
   "cell_type": "code",
   "execution_count": 4,
   "metadata": {},
   "outputs": [],
   "source": [
    "def DP_compress(point_list,output_point_list,Dmax):\n",
    "    start_index=0\n",
    "    end_index=len(point_list)-1\n",
    "\n",
    "    #起止点必定是关键点,但是作为递归程序此步引入了冗余数据,后期必须去除\n",
    "    output_point_list.append(point_list[start_index])\n",
    "    output_point_list.append(point_list[end_index])\n",
    "\n",
    "    if start_index<end_index:\n",
    "        index=start_index+1        #工作指针,遍历除起止点外的所有点\n",
    "        max_vertical_dist=0        #路径中离弦最远的距离\n",
    "        key_point_index=0        #路径中离弦最远的点,即划分点\n",
    "\n",
    "        while(index<end_index):\n",
    "            cur_vertical_dist=get_vertical_dist(point_list[start_index],point_list[end_index],point_list[index])\n",
    "            if cur_vertical_dist>max_vertical_dist:\n",
    "                max_vertical_dist=cur_vertical_dist\n",
    "                key_point_index=index        #记录划分点\n",
    "            index+=1\n",
    "\n",
    "        #递归划分路径\n",
    "        if max_vertical_dist>=Dmax:\n",
    "            DP_compress(point_list[start_index:key_point_index],output_point_list,Dmax)\n",
    "            DP_compress(point_list[key_point_index:end_index],output_point_list,Dmax)"
   ]
  },
  {
   "cell_type": "code",
   "execution_count": 5,
   "metadata": {},
   "outputs": [],
   "source": [
    "def get_MeanErr(point_list,output_point_list):\n",
    "    Err=0\n",
    "\n",
    "    start_index=0\n",
    "    end_index=len(output_point_list)-1\n",
    "\n",
    "    while(start_index<end_index):        #遍历所有关键点\n",
    "        #选取两相邻关键点\n",
    "        pointA_id=int(output_point_list[start_index][2])\n",
    "        pointB_id=int(output_point_list[start_index+1][2])\n",
    "\n",
    "        index=pointA_id+1        #工作指针,用于遍历非关键点\n",
    "        while(index<pointB_id):        #遍历两关键点之间的非关键点\n",
    "            Err+=get_vertical_dist(output_point_list[start_index],output_point_list[start_index+1],point_list[index])\n",
    "            index+=1\n",
    "\n",
    "        start_index+=1\n",
    "\n",
    "    return Err/len(point_list)"
   ]
  },
  {
   "cell_type": "code",
   "execution_count": 7,
   "metadata": {},
   "outputs": [
    {
     "data": {
      "text/html": [
       "<div>\n",
       "<style scoped>\n",
       "    .dataframe tbody tr th:only-of-type {\n",
       "        vertical-align: middle;\n",
       "    }\n",
       "\n",
       "    .dataframe tbody tr th {\n",
       "        vertical-align: top;\n",
       "    }\n",
       "\n",
       "    .dataframe thead th {\n",
       "        text-align: right;\n",
       "    }\n",
       "</style>\n",
       "<table border=\"1\" class=\"dataframe\">\n",
       "  <thead>\n",
       "    <tr style=\"text-align: right;\">\n",
       "      <th></th>\n",
       "      <th>index</th>\n",
       "      <th>longitude</th>\n",
       "      <th>latitude</th>\n",
       "    </tr>\n",
       "  </thead>\n",
       "  <tbody>\n",
       "    <tr>\n",
       "      <th>0</th>\n",
       "      <td>0</td>\n",
       "      <td>114.205147</td>\n",
       "      <td>30.456370</td>\n",
       "    </tr>\n",
       "    <tr>\n",
       "      <th>1</th>\n",
       "      <td>1</td>\n",
       "      <td>114.205162</td>\n",
       "      <td>30.456384</td>\n",
       "    </tr>\n",
       "    <tr>\n",
       "      <th>2</th>\n",
       "      <td>2</td>\n",
       "      <td>114.205177</td>\n",
       "      <td>30.456398</td>\n",
       "    </tr>\n",
       "    <tr>\n",
       "      <th>3</th>\n",
       "      <td>3</td>\n",
       "      <td>114.205192</td>\n",
       "      <td>30.456412</td>\n",
       "    </tr>\n",
       "    <tr>\n",
       "      <th>4</th>\n",
       "      <td>4</td>\n",
       "      <td>114.205208</td>\n",
       "      <td>30.456426</td>\n",
       "    </tr>\n",
       "  </tbody>\n",
       "</table>\n",
       "</div>"
      ],
      "text/plain": [
       "   index   longitude   latitude\n",
       "0      0  114.205147  30.456370\n",
       "1      1  114.205162  30.456384\n",
       "2      2  114.205177  30.456398\n",
       "3      3  114.205192  30.456412\n",
       "4      4  114.205208  30.456426"
      ]
     },
     "execution_count": 7,
     "metadata": {},
     "output_type": "execute_result"
    }
   ],
   "source": [
    "COLUMNS = [ 'time','longitude','latitude']\n",
    "data = pd.read_excel('qs1/chazhi_1.xlsx', header= None, names= COLUMNS)\n",
    "ID = pd.Series(data.index, name = 'index')\n",
    "data = data.drop('time', 1)\n",
    "data = pd.concat([ID, data], axis = 1)\n",
    "data.head()"
   ]
  },
  {
   "cell_type": "code",
   "execution_count": 8,
   "metadata": {},
   "outputs": [
    {
     "data": {
      "text/plain": [
       "59339"
      ]
     },
     "execution_count": 8,
     "metadata": {},
     "output_type": "execute_result"
    }
   ],
   "source": [
    "len(data)"
   ]
  },
  {
   "cell_type": "code",
   "execution_count": 9,
   "metadata": {},
   "outputs": [],
   "source": [
    "point_list=[]\n",
    "output_point_list=[]\n",
    "\n",
    "for i in range(len(data)):\n",
    "    index = int(data.iloc[i][0])\n",
    "    longitude = data.iloc[i][1]\n",
    "    latitude = data.iloc[i][2]\n",
    "    point_list.append((longitude, latitude, index))\n",
    "\n",
    "DP_compress(point_list,output_point_list,Dmax=15)\n",
    "output_point_list=list(set(output_point_list))        #去除递归引入的冗余数据\n",
    "output_point_list=sorted(output_point_list,key=lambda x:x[2])        #按照id排序"
   ]
  },
  {
   "cell_type": "code",
   "execution_count": 10,
   "metadata": {},
   "outputs": [
    {
     "data": {
      "text/plain": [
       "206"
      ]
     },
     "execution_count": 10,
     "metadata": {},
     "output_type": "execute_result"
    }
   ],
   "source": [
    "len(output_point_list)"
   ]
  },
  {
   "cell_type": "code",
   "execution_count": 11,
   "metadata": {},
   "outputs": [
    {
     "name": "stdout",
     "output_type": "stream",
     "text": [
      "compression rate=59339/206=0.9965284214428959\n",
      "mean error:3.9600145403092792\n"
     ]
    }
   ],
   "source": [
    "print(\"compression rate={}/{}={}\".format(len(point_list),len(output_point_list),1 -len(output_point_list)/len(point_list)))\n",
    "print(\"mean error:{}\".format(get_MeanErr(point_list,output_point_list)))"
   ]
  },
  {
   "cell_type": "code",
   "execution_count": 12,
   "metadata": {},
   "outputs": [
    {
     "data": {
      "image/png": "[encoded data removed]",
      "text/plain": [
       "<Figure size 432x288 with 1 Axes>"
      ]
     },
     "metadata": {
      "needs_background": "light"
     },
     "output_type": "display_data"
    },
    {
     "data": {
      "image/png": "[encoded data removed]",
      "text/plain": [
       "<Figure size 432x288 with 1 Axes>"
      ]
     },
     "metadata": {
      "needs_background": "light"
     },
     "output_type": "display_data"
    }
   ],
   "source": [
    "uncompressed=[[],[]]\n",
    "for point in point_list[:]:\n",
    "    uncompressed[0].append(point[0])\n",
    "    uncompressed[1].append(point[1])\n",
    "    \n",
    "plt.scatter(uncompressed[0],uncompressed[1])\n",
    "plt.plot(uncompressed[0], uncompressed[1], 'r')\n",
    "plt.xlabel(\"longitude\")\n",
    "plt.ylabel(\"latitude\")\n",
    "plt.title(\"uncompressed\")\n",
    "plt.savefig('figure9.jpg')\n",
    "plt.show()\n",
    "\n",
    "compressed=[[],[]]\n",
    "for point in output_point_list:\n",
    "    compressed[0].append(point[0])\n",
    "    compressed[1].append(point[1])\n",
    "    \n",
    "plt.scatter(compressed[0],compressed[1])\n",
    "plt.plot(compressed[0], compressed[1], 'r')\n",
    "plt.xlabel(\"longitude\")\n",
    "plt.ylabel(\"latitude\")\n",
    "plt.title(\"compressed\")\n",
    "plt.savefig('figure10.jpg')\n",
    "plt.show()"
   ]
  },
  {
   "cell_type": "code",
   "execution_count": 13,
   "metadata": {},
   "outputs": [
    {
     "data": {
      "text/html": [
       "<div>\n",
       "<style scoped>\n",
       "    .dataframe tbody tr th:only-of-type {\n",
       "        vertical-align: middle;\n",
       "    }\n",
       "\n",
       "    .dataframe tbody tr th {\n",
       "        vertical-align: top;\n",
       "    }\n",
       "\n",
       "    .dataframe thead th {\n",
       "        text-align: right;\n",
       "    }\n",
       "</style>\n",
       "<table border=\"1\" class=\"dataframe\">\n",
       "  <thead>\n",
       "    <tr style=\"text-align: right;\">\n",
       "      <th></th>\n",
       "      <th>longitude</th>\n",
       "      <th>latitude</th>\n",
       "    </tr>\n",
       "  </thead>\n",
       "  <tbody>\n",
       "    <tr>\n",
       "      <th>0</th>\n",
       "      <td>114.205147</td>\n",
       "      <td>30.456370</td>\n",
       "    </tr>\n",
       "    <tr>\n",
       "      <th>1</th>\n",
       "      <td>114.220513</td>\n",
       "      <td>30.471495</td>\n",
       "    </tr>\n",
       "    <tr>\n",
       "      <th>2</th>\n",
       "      <td>114.220534</td>\n",
       "      <td>30.471516</td>\n",
       "    </tr>\n",
       "    <tr>\n",
       "      <th>3</th>\n",
       "      <td>114.232689</td>\n",
       "      <td>30.484498</td>\n",
       "    </tr>\n",
       "    <tr>\n",
       "      <th>4</th>\n",
       "      <td>114.232707</td>\n",
       "      <td>30.484517</td>\n",
       "    </tr>\n",
       "  </tbody>\n",
       "</table>\n",
       "</div>"
      ],
      "text/plain": [
       "    longitude   latitude\n",
       "0  114.205147  30.456370\n",
       "1  114.220513  30.471495\n",
       "2  114.220534  30.471516\n",
       "3  114.232689  30.484498\n",
       "4  114.232707  30.484517"
      ]
     },
     "execution_count": 13,
     "metadata": {},
     "output_type": "execute_result"
    }
   ],
   "source": [
    "out = np.array(output_point_list)\n",
    "out = pd.DataFrame(out, columns= ['longitude', 'latitude', 'index'])\n",
    "out = out.drop('index', 1)\n",
    "out.head()"
   ]
  },
  {
   "cell_type": "code",
   "execution_count": 15,
   "metadata": {},
   "outputs": [],
   "source": [
    "out.to_excel('qs1/Compressed_1.xlsx')"
   ]
  }
 ],
 "metadata": {
  "kernelspec": {
   "display_name": "Python 3",
   "language": "python",
   "name": "python3"
  },
  "language_info": {
   "codemirror_mode": {
    "name": "ipython",
    "version": 3
   },
   "file_extension": ".py",
   "mimetype": "text/x-python",
   "name": "python",
   "nbconvert_exporter": "python",
   "pygments_lexer": "ipython3",
   "version": "3.7.3"
  }
 },
 "nbformat": 4,
 "nbformat_minor": 2
}
