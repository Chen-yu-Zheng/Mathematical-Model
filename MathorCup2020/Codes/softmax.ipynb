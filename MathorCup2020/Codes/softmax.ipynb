{
 "cells": [
  {
   "cell_type": "code",
   "execution_count": 1,
   "metadata": {},
   "outputs": [],
   "source": [
    "import numpy as np\n",
    "from sklearn.model_selection import train_test_split\n",
    "from sklearn.preprocessing import StandardScaler\n",
    "\n",
    "import torch\n",
    "import torch.nn as nn\n",
    "import torch.utils.data as Data\n",
    "import torch.optim as optim\n",
    "from torch.autograd import Variable"
   ]
  },
  {
   "cell_type": "code",
   "execution_count": 2,
   "metadata": {},
   "outputs": [
    {
     "name": "stdout",
     "output_type": "stream",
     "text": [
      "(2400000, 3)\n",
      "(2400000,)\n"
     ]
    }
   ],
   "source": [
    "data_train = np.load('Dataset/data_train.npy')\n",
    "X = data_train[:,:3]\n",
    "Y = data_train[:,-1]\n",
    "print(X.shape)\n",
    "print(Y.shape)"
   ]
  },
  {
   "cell_type": "code",
   "execution_count": 3,
   "metadata": {},
   "outputs": [],
   "source": [
    "standarder = StandardScaler()"
   ]
  },
  {
   "cell_type": "code",
   "execution_count": 4,
   "metadata": {},
   "outputs": [],
   "source": [
    "X_train , X_test, Y_train, Y_test = train_test_split(X,Y, test_size= 0.2, random_state=0)\n",
    "standarder.fit(X_train)\n",
    "X_train = standarder.transform(X_train)\n",
    "standarder.transform(X_train)\n",
    "X_test = standarder.transform(X_test)\n",
    "X_train = torch.from_numpy(X_train)\n",
    "X_test = torch.from_numpy(X_test)\n",
    "Y_train = torch.from_numpy(Y_train)\n",
    "Y_test = torch.from_numpy(Y_test)"
   ]
  },
  {
   "cell_type": "code",
   "execution_count": 5,
   "metadata": {},
   "outputs": [],
   "source": [
    "data_train = Data.TensorDataset(X_train, Y_train)\n",
    "data_test = Data.TensorDataset(X_test, Y_test)"
   ]
  },
  {
   "cell_type": "code",
   "execution_count": 6,
   "metadata": {},
   "outputs": [],
   "source": [
    "BATCH_SIZE = 512\n",
    "loder_train = Data.DataLoader(data_train, batch_size= BATCH_SIZE, shuffle= True)\n",
    "loder_test = Data.DataLoader(data_test, batch_size= BATCH_SIZE, shuffle= False)"
   ]
  },
  {
   "cell_type": "code",
   "execution_count": 7,
   "metadata": {},
   "outputs": [],
   "source": [
    "class softmaxNet(nn.Module):\n",
    "    def __init__(self):\n",
    "        super(softmaxNet, self).__init__()\n",
    "        self.layer1 = nn.Sequential(nn.Linear(3,200) , nn.ReLU(inplace = True), nn.Dropout())\n",
    "        self.layer2 = nn.Sequential(nn.Linear(200,150) , nn.ReLU(inplace = True), nn.Dropout())\n",
    "        self.layer3 = nn.Sequential(nn.Linear(150,100) , nn.ReLU(inplace = True), nn.Dropout())\n",
    "        self.layer4 = nn.Sequential(nn.Linear(100,50) , nn.ReLU(inplace = True), nn.Dropout())\n",
    "        self.layer5 = nn.Sequential(nn.Linear(50,10) , nn.ReLU(inplace = True), nn.Dropout(0.2))\n",
    "        self.layer6 = nn.Sequential(nn.Linear(10,1), nn.Sigmoid())\n",
    "        \n",
    "    \n",
    "    def forward(self,x):\n",
    "        x = self.layer1(x)\n",
    "        x = self.layer2(x)\n",
    "        x = self.layer3(x)\n",
    "        x = self.layer4(x)\n",
    "        x = self.layer5(x)\n",
    "        x = self.layer6(x)\n",
    "        \n",
    "        return x"
   ]
  },
  {
   "cell_type": "code",
   "execution_count": 8,
   "metadata": {},
   "outputs": [
    {
     "name": "stdout",
     "output_type": "stream",
     "text": [
      "softmaxNet(\n",
      "  (layer1): Sequential(\n",
      "    (0): Linear(in_features=3, out_features=200, bias=True)\n",
      "    (1): ReLU(inplace=True)\n",
      "    (2): Dropout(p=0.5, inplace=False)\n",
      "  )\n",
      "  (layer2): Sequential(\n",
      "    (0): Linear(in_features=200, out_features=150, bias=True)\n",
      "    (1): ReLU(inplace=True)\n",
      "    (2): Dropout(p=0.5, inplace=False)\n",
      "  )\n",
      "  (layer3): Sequential(\n",
      "    (0): Linear(in_features=150, out_features=100, bias=True)\n",
      "    (1): ReLU(inplace=True)\n",
      "    (2): Dropout(p=0.5, inplace=False)\n",
      "  )\n",
      "  (layer4): Sequential(\n",
      "    (0): Linear(in_features=100, out_features=50, bias=True)\n",
      "    (1): ReLU(inplace=True)\n",
      "    (2): Dropout(p=0.5, inplace=False)\n",
      "  )\n",
      "  (layer5): Sequential(\n",
      "    (0): Linear(in_features=50, out_features=10, bias=True)\n",
      "    (1): ReLU(inplace=True)\n",
      "    (2): Dropout(p=0.2, inplace=False)\n",
      "  )\n",
      "  (layer6): Sequential(\n",
      "    (0): Linear(in_features=10, out_features=1, bias=True)\n",
      "    (1): Sigmoid()\n",
      "  )\n",
      ")\n"
     ]
    }
   ],
   "source": [
    "net = softmaxNet()\n",
    "#if torch.cuda.is_available():\n",
    "#    net = net.cuda()\n",
    "print(net)"
   ]
  },
  {
   "cell_type": "code",
   "execution_count": 9,
   "metadata": {},
   "outputs": [],
   "source": [
    "learning_rate = 0.005\n",
    "#criterion = nn.BCELoss()\n",
    "criterion = nn.BCEWithLogitsLoss()\n",
    "optimizer = optim.Adam(net.parameters(), lr= learning_rate)"
   ]
  },
  {
   "cell_type": "code",
   "execution_count": 10,
   "metadata": {},
   "outputs": [
    {
     "name": "stdout",
     "output_type": "stream",
     "text": [
      "Epoch = 1 \n",
      "step = 100, Loss = 50.5927, Acc = 0.7621 \n",
      "step = 200, Loss = 48.5358, Acc = 0.7629 \n",
      "step = 300, Loss = 48.6849, Acc = 0.7643 \n",
      "step = 400, Loss = 48.3184, Acc = 0.7687 \n",
      "step = 500, Loss = 48.3888, Acc = 0.7658 \n",
      "step = 600, Loss = 48.3580, Acc = 0.7722 \n",
      "step = 700, Loss = 48.0945, Acc = 0.7762 \n",
      "step = 800, Loss = 47.9590, Acc = 0.7822 \n",
      "step = 900, Loss = 48.3309, Acc = 0.7817 \n",
      "step = 1000, Loss = 47.9700, Acc = 0.7822 \n",
      "step = 1100, Loss = 48.0453, Acc = 0.7825 \n",
      "step = 1200, Loss = 48.0792, Acc = 0.7845 \n",
      "step = 1300, Loss = 48.1023, Acc = 0.7903 \n",
      "step = 1400, Loss = 47.8435, Acc = 0.7909 \n",
      "step = 1500, Loss = 48.0287, Acc = 0.7817 \n",
      "step = 1600, Loss = 47.9551, Acc = 0.7940 \n",
      "step = 1700, Loss = 48.0899, Acc = 0.7998 \n",
      "step = 1800, Loss = 48.0674, Acc = 0.7954 \n",
      "step = 1900, Loss = 48.1152, Acc = 0.7863 \n",
      "step = 2000, Loss = 47.9566, Acc = 0.7967 \n",
      "step = 2100, Loss = 48.2358, Acc = 0.7996 \n",
      "step = 2200, Loss = 48.1296, Acc = 0.7988 \n",
      "step = 2300, Loss = 48.0043, Acc = 0.8024 \n",
      "step = 2400, Loss = 47.9757, Acc = 0.7978 \n",
      "step = 2500, Loss = 47.7399, Acc = 0.8123 \n",
      "step = 2600, Loss = 48.2192, Acc = 0.7894 \n",
      "step = 2700, Loss = 47.9964, Acc = 0.7951 \n",
      "step = 2800, Loss = 48.0799, Acc = 0.8009 \n",
      "step = 2900, Loss = 47.9702, Acc = 0.7949 \n",
      "step = 3000, Loss = 47.9497, Acc = 0.8049 \n",
      "step = 3100, Loss = 47.9643, Acc = 0.8051 \n",
      "step = 3200, Loss = 47.6787, Acc = 0.8016 \n",
      "step = 3300, Loss = 47.8340, Acc = 0.8109 \n",
      "step = 3400, Loss = 47.9565, Acc = 0.8076 \n",
      "step = 3500, Loss = 48.0086, Acc = 0.8020 \n",
      "step = 3600, Loss = 48.1382, Acc = 0.8054 \n",
      "step = 3700, Loss = 47.9892, Acc = 0.8025 \n",
      "Epoch = 2 \n",
      "step = 100, Loss = 47.8445, Acc = 0.8145 \n",
      "step = 200, Loss = 48.2514, Acc = 0.8175 \n",
      "step = 300, Loss = 47.9309, Acc = 0.7995 \n",
      "step = 400, Loss = 47.9963, Acc = 0.8143 \n",
      "step = 500, Loss = 48.0098, Acc = 0.8067 \n",
      "step = 600, Loss = 47.9686, Acc = 0.8119 \n",
      "step = 700, Loss = 47.8936, Acc = 0.8079 \n",
      "step = 800, Loss = 47.8438, Acc = 0.8077 \n",
      "step = 900, Loss = 48.0753, Acc = 0.8046 \n",
      "step = 1000, Loss = 48.0268, Acc = 0.8072 \n",
      "step = 1100, Loss = 47.9985, Acc = 0.8096 \n",
      "step = 1200, Loss = 47.9340, Acc = 0.8171 \n",
      "step = 1300, Loss = 47.9792, Acc = 0.8123 \n",
      "step = 1400, Loss = 48.1620, Acc = 0.8077 \n",
      "step = 1500, Loss = 47.9539, Acc = 0.8120 \n",
      "step = 1600, Loss = 47.9566, Acc = 0.8051 \n",
      "step = 1700, Loss = 48.1674, Acc = 0.8337 \n",
      "step = 1800, Loss = 47.8700, Acc = 0.8294 \n",
      "step = 1900, Loss = 48.2165, Acc = 0.8256 \n",
      "step = 2000, Loss = 47.9563, Acc = 0.8296 \n",
      "step = 2100, Loss = 48.0808, Acc = 0.8315 \n",
      "step = 2200, Loss = 48.0328, Acc = 0.8328 \n",
      "step = 2300, Loss = 48.0412, Acc = 0.8303 \n",
      "step = 2400, Loss = 47.8064, Acc = 0.8405 \n",
      "step = 2500, Loss = 47.9922, Acc = 0.8347 \n",
      "step = 2600, Loss = 47.9929, Acc = 0.8288 \n",
      "step = 2700, Loss = 47.8634, Acc = 0.8170 \n",
      "step = 2800, Loss = 47.8831, Acc = 0.8213 \n",
      "step = 2900, Loss = 48.1495, Acc = 0.8159 \n",
      "step = 3000, Loss = 47.9095, Acc = 0.8260 \n",
      "step = 3100, Loss = 47.9555, Acc = 0.8273 \n",
      "step = 3200, Loss = 47.8987, Acc = 0.8331 \n",
      "step = 3300, Loss = 47.9587, Acc = 0.8242 \n",
      "step = 3400, Loss = 48.0414, Acc = 0.8164 \n",
      "step = 3500, Loss = 47.9149, Acc = 0.8106 \n",
      "step = 3600, Loss = 47.7031, Acc = 0.8220 \n",
      "step = 3700, Loss = 47.9085, Acc = 0.8324 \n",
      "Epoch = 3 \n",
      "step = 100, Loss = 47.9433, Acc = 0.8411 \n",
      "step = 200, Loss = 48.1979, Acc = 0.8422 \n",
      "step = 300, Loss = 47.9557, Acc = 0.8349 \n",
      "step = 400, Loss = 48.0045, Acc = 0.8333 \n",
      "step = 500, Loss = 47.9456, Acc = 0.8448 \n",
      "step = 600, Loss = 48.1071, Acc = 0.8327 \n",
      "step = 700, Loss = 47.9737, Acc = 0.8206 \n",
      "step = 800, Loss = 48.0600, Acc = 0.8243 \n",
      "step = 900, Loss = 47.9336, Acc = 0.8325 \n",
      "step = 1000, Loss = 47.8931, Acc = 0.8384 \n",
      "step = 1100, Loss = 48.0088, Acc = 0.8285 \n",
      "step = 1200, Loss = 47.9647, Acc = 0.8328 \n",
      "step = 1300, Loss = 48.0269, Acc = 0.8359 \n",
      "step = 1400, Loss = 47.9105, Acc = 0.8402 \n",
      "step = 1500, Loss = 47.7598, Acc = 0.8489 \n",
      "step = 1600, Loss = 48.0824, Acc = 0.8527 \n",
      "step = 1700, Loss = 47.8040, Acc = 0.8506 \n",
      "step = 1800, Loss = 47.8956, Acc = 0.8467 \n",
      "step = 1900, Loss = 48.0223, Acc = 0.8411 \n",
      "step = 2000, Loss = 47.7649, Acc = 0.8471 \n",
      "step = 2100, Loss = 48.1221, Acc = 0.8437 \n",
      "step = 2200, Loss = 47.8352, Acc = 0.8451 \n",
      "step = 2300, Loss = 48.1854, Acc = 0.8410 \n",
      "step = 2400, Loss = 48.0046, Acc = 0.8429 \n",
      "step = 2500, Loss = 48.1604, Acc = 0.8375 \n",
      "step = 2600, Loss = 47.8991, Acc = 0.8494 \n",
      "step = 2700, Loss = 47.8536, Acc = 0.8512 \n",
      "step = 2800, Loss = 48.1089, Acc = 0.8455 \n",
      "step = 2900, Loss = 48.1501, Acc = 0.8496 \n",
      "step = 3000, Loss = 48.1661, Acc = 0.8494 \n",
      "step = 3100, Loss = 47.9967, Acc = 0.8492 \n",
      "step = 3200, Loss = 48.3208, Acc = 0.8433 \n",
      "step = 3300, Loss = 47.9652, Acc = 0.8468 \n",
      "step = 3400, Loss = 47.6893, Acc = 0.8509 \n",
      "step = 3500, Loss = 48.0551, Acc = 0.8507 \n",
      "step = 3600, Loss = 48.1844, Acc = 0.8461 \n",
      "step = 3700, Loss = 48.0490, Acc = 0.8489 \n"
     ]
    }
   ],
   "source": [
    "num_epoch = 3\n",
    "step_acc_list = []\n",
    "for epoch in range(num_epoch):\n",
    "    print('Epoch = {:d} '.format(epoch + 1))\n",
    "    \n",
    "    '''\n",
    "    epoch_loss = 0\n",
    "    epoch_acc = 0\n",
    "    '''\n",
    "    \n",
    "    step_loss = 0\n",
    "    step_acc = 0\n",
    "    \n",
    "    for step, (img, label) in enumerate(loder_train):\n",
    "        \n",
    "        '''\n",
    "        print(img)\n",
    "        print(img.shape)\n",
    "        print(label)\n",
    "        print(label.shape)\n",
    "        \n",
    "        if torch.cuda.is_available():\n",
    "            img = img.cuda().float()\n",
    "            label = label.cuda().long()\n",
    "        else:\n",
    "            img = img.float()\n",
    "            label = label.long()\n",
    "        '''\n",
    "        \n",
    "        img = img.float()\n",
    "        label = label.float().reshape(-1,1)\n",
    "        #print(label)\n",
    "        #print(label.shape)\n",
    "        \n",
    "        out = net(img)\n",
    "        #print(out)\n",
    "        #print(out.ceil())\n",
    "        #print((out.ceil() == label).sum())\n",
    "        #print(out.shape)\n",
    "        \n",
    "        loss = criterion(out, label) #必须全化为float\n",
    "\n",
    "        step_loss += loss.data\n",
    "        num_correct = (out.ceil() == label).sum()\n",
    "        step_acc += num_correct.data\n",
    "        #print(step_acc)\n",
    "\n",
    "        optimizer.zero_grad()\n",
    "        loss.backward()\n",
    "        optimizer.step()\n",
    "        \n",
    "        #if step == 0:\n",
    "            #break\n",
    "        \n",
    "        if (step + 1) % 100 == 0:\n",
    "            step_acc = float(step_acc) / (BATCH_SIZE * 100)\n",
    "            step_acc_list.append(step_acc)\n",
    "            print('step = {:d}, Loss = {:.4f}, Acc = {:.4f} '.format(step + 1, step_loss, step_acc))\n",
    "            step_loss = 0\n",
    "            step_acc = 0"
   ]
  },
  {
   "cell_type": "code",
   "execution_count": 18,
   "metadata": {},
   "outputs": [
    {
     "data": {
      "image/png": "[encoded data removed]",
      "text/plain": [
       "<Figure size 864x576 with 1 Axes>"
      ]
     },
     "metadata": {
      "needs_background": "light"
     },
     "output_type": "display_data"
    }
   ],
   "source": [
    "import matplotlib.pyplot as plt\n",
    "plt.figure(figsize=(12,8))\n",
    "plt.xlabel('Batch Processing Times/100')\n",
    "plt.ylabel('Accuracy', rotation = 90)\n",
    "plt.title('Accuracy during Batch Processing')\n",
    "plt.plot(np.arange(len(step_acc_list)), np.array(step_acc_list))\n",
    "plt.savefig('figures/step_acc_list.png')\n",
    "plt.show()"
   ]
  },
  {
   "cell_type": "code",
   "execution_count": 16,
   "metadata": {},
   "outputs": [],
   "source": [
    "step_acc_list = np.array(step_acc_list)"
   ]
  },
  {
   "cell_type": "code",
   "execution_count": 17,
   "metadata": {},
   "outputs": [],
   "source": [
    "np.save('step_acc_list.npy', step_acc_list)"
   ]
  },
  {
   "cell_type": "code",
   "execution_count": 19,
   "metadata": {},
   "outputs": [
    {
     "name": "stdout",
     "output_type": "stream",
     "text": [
      "Test_loss = 450.9933, Test_acc = 0.8406 \n"
     ]
    }
   ],
   "source": [
    "test_acc = 0\n",
    "test_loss = 0\n",
    "\n",
    "for step, (img, label) in enumerate(loder_test):\n",
    "        \n",
    "    '''\n",
    "    print(img)\n",
    "    print(img.shape)\n",
    "    print(label)\n",
    "    print(label.shape)\n",
    "        \n",
    "    if torch.cuda.is_available():\n",
    "        img = img.cuda().float()\n",
    "        label = label.cuda().long()\n",
    "    else:\n",
    "        img = img.float()\n",
    "        label = label.long()\n",
    "    '''\n",
    "        \n",
    "    img = img.float()\n",
    "    label = label.float().reshape(-1,1)\n",
    "    #print(label)\n",
    "    #print(label.shape)\n",
    "        \n",
    "    out = net(img)\n",
    "    #print(out)\n",
    "    #print(out.ceil())\n",
    "    #print((out.ceil() == label).sum())\n",
    "    #print(out.shape)\n",
    "        \n",
    "    loss = criterion(out, label) #必须全化为float\n",
    "\n",
    "    test_loss += loss.data\n",
    "    num_correct = (out.ceil() == label).sum()\n",
    "    test_acc += num_correct.data\n",
    "    #print(acc)\n",
    "\n",
    "test_acc = float(test_acc) / len(Y_test)    \n",
    "print('Test_loss = {:.4f}, Test_acc = {:.4f} '.format(test_loss, test_acc))"
   ]
  },
  {
   "cell_type": "code",
   "execution_count": 20,
   "metadata": {},
   "outputs": [
    {
     "name": "stderr",
     "output_type": "stream",
     "text": [
      "D:\\Anaconda3\\lib\\site-packages\\torch\\serialization.py:360: UserWarning: Couldn't retrieve source code for container of type softmaxNet. It won't be checked for correctness upon loading.\n",
      "  \"type \" + obj.__name__ + \". It won't be checked \"\n"
     ]
    }
   ],
   "source": [
    "torch.save(net, 'model/softmaxNet.pkl')"
   ]
  }
 ],
 "metadata": {
  "kernelspec": {
   "display_name": "Python 3",
   "language": "python",
   "name": "python3"
  },
  "language_info": {
   "codemirror_mode": {
    "name": "ipython",
    "version": 3
   },
   "file_extension": ".py",
   "mimetype": "text/x-python",
   "name": "python",
   "nbconvert_exporter": "python",
   "pygments_lexer": "ipython3",
   "version": "3.7.3"
  }
 },
 "nbformat": 4,
 "nbformat_minor": 2
}
