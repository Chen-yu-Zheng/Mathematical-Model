{
 "cells": [
  {
   "cell_type": "code",
   "execution_count": 1,
   "metadata": {},
   "outputs": [],
   "source": [
    "import numpy as np\n",
    "from sklearn.linear_model import SGDClassifier\n",
    "from sklearn.model_selection import train_test_split\n",
    "from sklearn.model_selection import cross_val_score\n",
    "from sklearn.pipeline import Pipeline\n",
    "from sklearn.preprocessing import StandardScaler\n",
    "from sklearn.metrics import classification_report\n",
    "import sklearn.metrics as metrics\n",
    "\n",
    "import torch.utils.data as Data\n",
    "import torch"
   ]
  },
  {
   "cell_type": "code",
   "execution_count": 2,
   "metadata": {},
   "outputs": [
    {
     "name": "stdout",
     "output_type": "stream",
     "text": [
      "(2400000, 3)\n",
      "(2400000,)\n"
     ]
    }
   ],
   "source": [
    "data_train = np.load('Dataset/data_train.npy')\n",
    "X = data_train[:,:3]\n",
    "Y = data_train[:,-1]\n",
    "print(X.shape)\n",
    "print(Y.shape)"
   ]
  },
  {
   "cell_type": "code",
   "execution_count": 3,
   "metadata": {},
   "outputs": [],
   "source": [
    "standarder = StandardScaler()\n",
    "X_train , X_test, Y_train, Y_test = train_test_split(X,Y, test_size= 0.2, random_state=0)\n",
    "standarder.fit(X_train)\n",
    "X_train = standarder.transform(X_train)\n",
    "X_test = standarder.transform(X_test)\n",
    "X_train = torch.from_numpy(X_train)\n",
    "#X_test = torch.from_numpy(X_test)\n",
    "Y_train = torch.from_numpy(Y_train)\n",
    "#Y_test = torch.from_numpy(Y_test)"
   ]
  },
  {
   "cell_type": "code",
   "execution_count": 4,
   "metadata": {},
   "outputs": [],
   "source": [
    "data_train = Data.TensorDataset(X_train, Y_train)\n",
    "#data_test = Data.TensorDataset(X_test, Y_test)"
   ]
  },
  {
   "cell_type": "code",
   "execution_count": 5,
   "metadata": {},
   "outputs": [],
   "source": [
    "BATCH_SIZE = 1024\n",
    "loder_train = Data.DataLoader(data_train, batch_size= BATCH_SIZE, shuffle= True)\n",
    "#loder_test = Data.DataLoader(data_test, batch_size= BATCH_SIZE, shuffle= False)"
   ]
  },
  {
   "cell_type": "code",
   "execution_count": 6,
   "metadata": {},
   "outputs": [],
   "source": [
    "clf = SGDClassifier(loss = 'log', n_jobs= -1)"
   ]
  },
  {
   "cell_type": "code",
   "execution_count": 7,
   "metadata": {},
   "outputs": [
    {
     "name": "stdout",
     "output_type": "stream",
     "text": [
      "Epoch = 1, Acc = 0.8317 \n",
      "Epoch = 2, Acc = 0.8338 \n",
      "Epoch = 3, Acc = 0.8352 \n",
      "Epoch = 4, Acc = 0.8357 \n",
      "Epoch = 5, Acc = 0.8348 \n",
      "Epoch = 6, Acc = 0.8333 \n",
      "Epoch = 7, Acc = 0.8347 \n",
      "Epoch = 8, Acc = 0.8341 \n",
      "Epoch = 9, Acc = 0.8335 \n",
      "Epoch = 10, Acc = 0.8320 \n"
     ]
    }
   ],
   "source": [
    "num_epoch = 10\n",
    "for epoch in range(num_epoch):   \n",
    "    for step,(img, label) in enumerate(loder_train):\n",
    "        clf.partial_fit(img.numpy(), label.numpy(), classes= np.unique(label.numpy()))\n",
    "        \n",
    "        '''\n",
    "        if (step + 1) % 100 == 0:\n",
    "            score = clf.score(X_test, Y_test)\n",
    "            print('step = {:d},  Acc = {:.4f} '.format(step + 1,score))\n",
    "        '''\n",
    "            \n",
    "    score = clf.score(X_test, Y_test)    \n",
    "    print('Epoch = {:d}, Acc = {:.4f} '.format(epoch + 1, score))"
   ]
  },
  {
   "cell_type": "code",
   "execution_count": 8,
   "metadata": {},
   "outputs": [
    {
     "data": {
      "text/plain": [
       "0.8319708333333333"
      ]
     },
     "execution_count": 8,
     "metadata": {},
     "output_type": "execute_result"
    }
   ],
   "source": [
    "clf.score(X_test, Y_test)"
   ]
  },
  {
   "cell_type": "code",
   "execution_count": 9,
   "metadata": {},
   "outputs": [
    {
     "name": "stderr",
     "output_type": "stream",
     "text": [
      "D:\\Anaconda3\\lib\\site-packages\\sklearn\\externals\\joblib\\__init__.py:15: DeprecationWarning: sklearn.externals.joblib is deprecated in 0.21 and will be removed in 0.23. Please import this functionality directly from joblib, which can be installed with: pip install joblib. If this warning is raised when loading pickled models, you may need to re-serialize those models with scikit-learn 0.21+.\n",
      "  warnings.warn(msg, category=DeprecationWarning)\n"
     ]
    }
   ],
   "source": [
    "from sklearn.externals import joblib"
   ]
  },
  {
   "cell_type": "code",
   "execution_count": 10,
   "metadata": {},
   "outputs": [
    {
     "data": {
      "text/plain": [
       "['model/sgd.joblib']"
      ]
     },
     "execution_count": 10,
     "metadata": {},
     "output_type": "execute_result"
    }
   ],
   "source": [
    "joblib.dump(clf, 'model/sgd.joblib')"
   ]
  }
 ],
 "metadata": {
  "kernelspec": {
   "display_name": "Python 3",
   "language": "python",
   "name": "python3"
  },
  "language_info": {
   "codemirror_mode": {
    "name": "ipython",
    "version": 3
   },
   "file_extension": ".py",
   "mimetype": "text/x-python",
   "name": "python",
   "nbconvert_exporter": "python",
   "pygments_lexer": "ipython3",
   "version": "3.7.3"
  }
 },
 "nbformat": 4,
 "nbformat_minor": 2
}
