{
 "cells": [
  {
   "cell_type": "code",
   "execution_count": 2,
   "metadata": {},
   "outputs": [],
   "source": [
    "import numpy as np\n",
    "\n",
    "from sklearn.externals import joblib\n",
    "from sklearn.ensemble import VotingClassifier\n",
    "from sklearn.model_selection import train_test_split\n",
    "from sklearn.preprocessing import StandardScaler\n",
    "import sklearn.metrics as metrics\n",
    "from sklearn.model_selection import cross_val_score\n",
    "\n",
    "import torch.utils.data as Data\n",
    "import torch"
   ]
  },
  {
   "cell_type": "code",
   "execution_count": 3,
   "metadata": {},
   "outputs": [
    {
     "name": "stdout",
     "output_type": "stream",
     "text": [
      "(2400000, 3)\n",
      "(2400000,)\n"
     ]
    }
   ],
   "source": [
    "data_train = np.load('Dataset/data_train.npy')\n",
    "X = data_train[:,:3]\n",
    "Y = data_train[:,-1]\n",
    "print(X.shape)\n",
    "print(Y.shape)"
   ]
  },
  {
   "cell_type": "code",
   "execution_count": 4,
   "metadata": {},
   "outputs": [],
   "source": [
    "standarder = StandardScaler()\n",
    "X_train , X_test, Y_train, Y_test = train_test_split(X,Y, test_size= 0.2, random_state=0)\n",
    "standarder.fit(X_train)\n",
    "X_train = standarder.transform(X_train)\n",
    "X_test = standarder.transform(X_test)\n",
    "X_train = torch.from_numpy(X_train)\n",
    "#X_test = torch.from_numpy(X_test)\n",
    "Y_train = torch.from_numpy(Y_train)\n",
    "#Y_test = torch.from_numpy(Y_test)"
   ]
  },
  {
   "cell_type": "code",
   "execution_count": 5,
   "metadata": {},
   "outputs": [],
   "source": [
    "data_train = Data.TensorDataset(X_train, Y_train)\n",
    "#data_test = Data.TensorDataset(X_test, Y_test)"
   ]
  },
  {
   "cell_type": "code",
   "execution_count": 10,
   "metadata": {},
   "outputs": [],
   "source": [
    "BATCH_SIZE = 65536\n",
    "loder_train = Data.DataLoader(data_train, batch_size= BATCH_SIZE, shuffle= True)\n",
    "#loder_test = Data.DataLoader(data_test, batch_size= BATCH_SIZE, shuffle= False)"
   ]
  },
  {
   "cell_type": "code",
   "execution_count": 11,
   "metadata": {},
   "outputs": [],
   "source": [
    "svm = joblib.load('model/svm.joblib')\n",
    "sgd = joblib.load('model/sgd.joblib')\n",
    "randonforest = joblib.load('model/randomforest.joblib')\n",
    "model = VotingClassifier(estimators=[('svm',svm), ('sgd',sgd), ('randonforest', randonforest)], voting= 'soft', n_jobs= -1)"
   ]
  },
  {
   "cell_type": "code",
   "execution_count": 12,
   "metadata": {},
   "outputs": [
    {
     "name": "stdout",
     "output_type": "stream",
     "text": [
      "0.8596541666666667\n"
     ]
    }
   ],
   "source": [
    "for step,(img, label) in enumerate(loder_train):\n",
    "\n",
    "    model.fit(img.numpy(), label.numpy())\n",
    "    print(model.score(X_test,Y_test))\n",
    "    \n",
    "    break"
   ]
  },
  {
   "cell_type": "code",
   "execution_count": 13,
   "metadata": {},
   "outputs": [
    {
     "data": {
      "text/plain": [
       "['model/ensemble.joblib']"
      ]
     },
     "execution_count": 13,
     "metadata": {},
     "output_type": "execute_result"
    }
   ],
   "source": [
    "joblib.dump(model, 'model/ensemble.joblib')"
   ]
  }
 ],
 "metadata": {
  "kernelspec": {
   "display_name": "Python 3",
   "language": "python",
   "name": "python3"
  },
  "language_info": {
   "codemirror_mode": {
    "name": "ipython",
    "version": 3
   },
   "file_extension": ".py",
   "mimetype": "text/x-python",
   "name": "python",
   "nbconvert_exporter": "python",
   "pygments_lexer": "ipython3",
   "version": "3.7.3"
  }
 },
 "nbformat": 4,
 "nbformat_minor": 2
}
