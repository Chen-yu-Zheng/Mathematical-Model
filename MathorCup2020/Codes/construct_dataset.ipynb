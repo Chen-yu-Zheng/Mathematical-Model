{
 "cells": [
  {
   "cell_type": "code",
   "execution_count": 1,
   "metadata": {},
   "outputs": [],
   "source": [
    "from skimage.io import imread\n",
    "import numpy as np\n",
    "import pandas as pd"
   ]
  },
  {
   "cell_type": "code",
   "execution_count": 2,
   "metadata": {},
   "outputs": [
    {
     "name": "stdout",
     "output_type": "stream",
     "text": [
      "(2400000, 3)\n"
     ]
    }
   ],
   "source": [
    "X = imread('Dataset/Data1.tif')\n",
    "X = X.reshape(-1,3)\n",
    "\n",
    "for i in range(2,9):\n",
    "    temp = imread('Dataset/Data'+  str(i) + '.tif')\n",
    "    temp = temp.reshape(-1,3)\n",
    "    X = np.vstack((X,temp))\n",
    "    \n",
    "print(X.shape)"
   ]
  },
  {
   "cell_type": "code",
   "execution_count": 3,
   "metadata": {},
   "outputs": [
    {
     "name": "stdout",
     "output_type": "stream",
     "text": [
      "(2400000, 1)\n"
     ]
    }
   ],
   "source": [
    "Y = imread('Dataset/Data1_reference.tif')\n",
    "Y = Y.reshape(-1,1)\n",
    "\n",
    "for i in range(2,9):\n",
    "    temp = imread('Dataset/Data'+  str(i) + '_reference.tif')\n",
    "    temp = temp.reshape(-1,1)\n",
    "    Y = np.vstack((Y,temp))\n",
    "\n",
    "print(Y.shape)"
   ]
  },
  {
   "cell_type": "code",
   "execution_count": 5,
   "metadata": {},
   "outputs": [
    {
     "name": "stdout",
     "output_type": "stream",
     "text": [
      "(2400000, 4)\n"
     ]
    }
   ],
   "source": [
    "data_train = np.hstack((X,Y))\n",
    "data_train = data_train.astype(np.float)\n",
    "print(data_train.shape)"
   ]
  },
  {
   "cell_type": "code",
   "execution_count": 6,
   "metadata": {},
   "outputs": [],
   "source": [
    "np.save('Dataset/data_train', data_train)"
   ]
  },
  {
   "cell_type": "code",
   "execution_count": 7,
   "metadata": {},
   "outputs": [
    {
     "name": "stdout",
     "output_type": "stream",
     "text": [
      "(300000, 3)\n"
     ]
    }
   ],
   "source": [
    "temp1 = imread('Dataset/Test1.tif')\n",
    "temp1 = temp1.reshape(-1,3)\n",
    "print(temp1.shape)"
   ]
  },
  {
   "cell_type": "code",
   "execution_count": 8,
   "metadata": {},
   "outputs": [
    {
     "name": "stdout",
     "output_type": "stream",
     "text": [
      "(300000, 3)\n"
     ]
    }
   ],
   "source": [
    "temp2 = imread('Dataset/Test2.tif')\n",
    "temp2 = temp2.reshape(-1,3)\n",
    "print(temp2.shape)"
   ]
  },
  {
   "cell_type": "code",
   "execution_count": 9,
   "metadata": {},
   "outputs": [
    {
     "name": "stdout",
     "output_type": "stream",
     "text": [
      "(600000, 3)\n"
     ]
    }
   ],
   "source": [
    "data_test = np.vstack((temp1, temp2))\n",
    "data_test = data_test.astype(np.float)\n",
    "print(data_test.shape)"
   ]
  },
  {
   "cell_type": "code",
   "execution_count": 10,
   "metadata": {},
   "outputs": [],
   "source": [
    "np.save('Dataset/data_test', data_test)"
   ]
  }
 ],
 "metadata": {
  "kernelspec": {
   "display_name": "Python 3",
   "language": "python",
   "name": "python3"
  },
  "language_info": {
   "codemirror_mode": {
    "name": "ipython",
    "version": 3
   },
   "file_extension": ".py",
   "mimetype": "text/x-python",
   "name": "python",
   "nbconvert_exporter": "python",
   "pygments_lexer": "ipython3",
   "version": "3.7.3"
  }
 },
 "nbformat": 4,
 "nbformat_minor": 2
}
