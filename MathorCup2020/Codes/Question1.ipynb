{
 "cells": [
  {
   "cell_type": "code",
   "execution_count": 26,
   "metadata": {},
   "outputs": [
    {
     "name": "stdout",
     "output_type": "stream",
     "text": [
      "Argiculture rate of figure 1 is: 0.8329266666666667\n",
      "Argiculture rate of figure 2 is: 0.8422666666666667\n",
      "Argiculture rate of figure 3 is: 0.70042\n",
      "Argiculture rate of figure 4 is: 0.7468366666666667\n",
      "Argiculture rate of figure 5 is: 0.5533533333333334\n",
      "Argiculture rate of figure 6 is: 0.8556166666666667\n",
      "Argiculture rate of figure 7 is: 0.6802366666666667\n",
      "Argiculture rate of figure 8 is: 0.8389366666666667\n"
     ]
    }
   ],
   "source": [
    "from skimage.io import imread\n",
    "import numpy as np\n",
    "\n",
    "agri_rate = []\n",
    "for i in range(1,9):\n",
    "    label = imread('Dataset/Data' + str(i) + '_reference.tif')\n",
    "    temp = np.sum(label)/ (500 * 600)\n",
    "    agri_rate.append(temp)\n",
    "\n",
    "for i in range(len(agri_rate)):\n",
    "    print('Argiculture rate of figure ' + str(i + 1) + ' is: ' + str(agri_rate[i]))"
   ]
  }
 ],
 "metadata": {
  "kernelspec": {
   "display_name": "Python 3",
   "language": "python",
   "name": "python3"
  },
  "language_info": {
   "codemirror_mode": {
    "name": "ipython",
    "version": 3
   },
   "file_extension": ".py",
   "mimetype": "text/x-python",
   "name": "python",
   "nbconvert_exporter": "python",
   "pygments_lexer": "ipython3",
   "version": "3.7.3"
  }
 },
 "nbformat": 4,
 "nbformat_minor": 2
}
